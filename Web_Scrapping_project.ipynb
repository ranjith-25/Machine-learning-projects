{
  "cells": [
    {
      "cell_type": "markdown",
      "metadata": {
        "id": "view-in-github",
        "colab_type": "text"
      },
      "source": [
        "<a href=\"https://colab.research.google.com/github/ranjith-25/Machine-learning-projects/blob/main/Web_Scrapping_project.ipynb\" target=\"_parent\"><img src=\"https://colab.research.google.com/assets/colab-badge.svg\" alt=\"Open In Colab\"/></a>"
      ]
    },
    {
      "cell_type": "markdown",
      "source": [
        "#**WEB SCRAPING OF AMAZON PRODUCT DATA**"
      ],
      "metadata": {
        "id": "kKepgLYPLgUf"
      }
    },
    {
      "cell_type": "code",
      "execution_count": null,
      "metadata": {
        "id": "16rNOQ_umY5T"
      },
      "outputs": [],
      "source": [
        "#Importing the libraries\n",
        "import requests\n",
        "from bs4 import BeautifulSoup as bs #BeautifulSoup - Web Scraping tool"
      ]
    },
    {
      "cell_type": "code",
      "execution_count": null,
      "metadata": {
        "colab": {
          "base_uri": "https://localhost:8080/"
        },
        "id": "ilYwSxmdnc0z",
        "outputId": "ac75755c-f860-4111-f48f-befa6ddd978a"
      },
      "outputs": [
        {
          "output_type": "execute_result",
          "data": {
            "text/plain": [
              "<Response [200]>"
            ]
          },
          "metadata": {},
          "execution_count": 8
        }
      ],
      "source": [
        "url=[]\n",
        "url = ['https://www.amazon.in/s?i=computers&bbn=976392031&rh=n%3A4364643031&ref=mega_elec_s23_2_1_2_5','https://www.amazon.in/s?i=computers&bbn=976392031&rh=n%3A4364643031&page=2&qid=1682773412&ref=sr_pg_2','https://www.amazon.in/s?i=computers&bbn=976392031&rh=n%3A4364643031&page=3&qid=1682773424&ref=sr_pg_3','https://www.amazon.in/s?i=computers&bbn=976392031&rh=n%3A4364643031&page=6&qid=1684348694&ref=sr_pg_6']\n",
        "\n",
        "page1 = requests.get(url[0])\n",
        "page1"
      ]
    },
    {
      "cell_type": "code",
      "execution_count": null,
      "metadata": {
        "colab": {
          "base_uri": "https://localhost:8080/"
        },
        "id": "9T-W2K8mIOmn",
        "outputId": "7eded8ce-149f-4c94-bfad-8f0cb96d91c8"
      },
      "outputs": [
        {
          "output_type": "execute_result",
          "data": {
            "text/plain": [
              "<Response [200]>"
            ]
          },
          "metadata": {},
          "execution_count": 12
        }
      ],
      "source": [
        "page2 = requests.get(url[1])\n",
        "page2"
      ]
    },
    {
      "cell_type": "code",
      "execution_count": null,
      "metadata": {
        "colab": {
          "base_uri": "https://localhost:8080/"
        },
        "id": "wVFShQkVTwVG",
        "outputId": "3e0b1033-39dc-4ace-c18f-4248932d95b6"
      },
      "outputs": [
        {
          "output_type": "execute_result",
          "data": {
            "text/plain": [
              "<Response [200]>"
            ]
          },
          "metadata": {},
          "execution_count": 20
        }
      ],
      "source": [
        "page3 = requests.get(url[2])\n",
        "page3"
      ]
    },
    {
      "cell_type": "code",
      "execution_count": null,
      "metadata": {
        "colab": {
          "base_uri": "https://localhost:8080/"
        },
        "id": "4NRth-OH6s5Q",
        "outputId": "2c66a813-99e2-4f7b-f5ed-09b64b4b80e6"
      },
      "outputs": [
        {
          "output_type": "execute_result",
          "data": {
            "text/plain": [
              "<Response [200]>"
            ]
          },
          "metadata": {},
          "execution_count": 28
        }
      ],
      "source": [
        "page4 = requests.get(url[3])\n",
        "page4"
      ]
    },
    {
      "cell_type": "code",
      "execution_count": null,
      "metadata": {
        "id": "77Fi7c7Iosi_"
      },
      "outputs": [],
      "source": [
        "soup1 = bs(page1.content,'html.parser') #convert source code into readable format\n",
        "soup2 = bs(page2.content,'html.parser')\n",
        "soup3 = bs(page3.content,'html.parser')\n",
        "soup4 = bs(page4.content,'html.parser')"
      ]
    },
    {
      "cell_type": "code",
      "execution_count": null,
      "metadata": {
        "id": "JkaIfqWHtQ7Y"
      },
      "outputs": [],
      "source": [
        "product_name_1 = soup1.find_all('span',class_ = 'a-text-normal')#Extracting the product details\n",
        "product_name_2 = soup2.find_all('span',class_ = 'a-text-normal')\n",
        "product_name_3 = soup3.find_all('span',class_ = 'a-text-normal')\n",
        "product_name_4 = soup4.find_all('span',class_ = 'a-text-normal')"
      ]
    },
    {
      "cell_type": "code",
      "execution_count": null,
      "metadata": {
        "id": "kpOJ2GRBSzUx"
      },
      "outputs": [],
      "source": [
        "product_name = product_name_1 + product_name_2 + product_name_3+product_name_4"
      ]
    },
    {
      "cell_type": "code",
      "execution_count": null,
      "metadata": {
        "colab": {
          "base_uri": "https://localhost:8080/"
        },
        "id": "zePOVJXQuTg1",
        "outputId": "50d23d53-90e7-498e-de3a-05f65defd517"
      },
      "outputs": [
        {
          "name": "stdout",
          "output_type": "stream",
          "text": [
            "96\n"
          ]
        }
      ],
      "source": [
        "print(len(product_name))#Length of the data"
      ]
    },
    {
      "cell_type": "code",
      "execution_count": null,
      "metadata": {
        "colab": {
          "base_uri": "https://localhost:8080/",
          "height": 424
        },
        "id": "7o34NnTwv6dL",
        "outputId": "62fc4b49-021b-4c12-b42f-d85d4bd40b1a"
      },
      "outputs": [
        {
          "data": {
            "text/html": [
              "\n",
              "  <div id=\"df-1d2b61f6-4633-4aa0-a5d4-ba8d926b94cd\">\n",
              "    <div class=\"colab-df-container\">\n",
              "      <div>\n",
              "<style scoped>\n",
              "    .dataframe tbody tr th:only-of-type {\n",
              "        vertical-align: middle;\n",
              "    }\n",
              "\n",
              "    .dataframe tbody tr th {\n",
              "        vertical-align: top;\n",
              "    }\n",
              "\n",
              "    .dataframe thead th {\n",
              "        text-align: right;\n",
              "    }\n",
              "</style>\n",
              "<table border=\"1\" class=\"dataframe\">\n",
              "  <thead>\n",
              "    <tr style=\"text-align: right;\">\n",
              "      <th></th>\n",
              "      <th>Raw data</th>\n",
              "    </tr>\n",
              "  </thead>\n",
              "  <tbody>\n",
              "    <tr>\n",
              "      <th>0</th>\n",
              "      <td>HP 15s,11th Gen Intel Core i3-1115G4 8GB RAM/5...</td>\n",
              "    </tr>\n",
              "    <tr>\n",
              "      <th>1</th>\n",
              "      <td>HP 14s, 11th Gen Intel Core i3-1115G4, 8GB RAM...</td>\n",
              "    </tr>\n",
              "    <tr>\n",
              "      <th>2</th>\n",
              "      <td>HP 15s, 12th Gen Intel Core i5 8GB RAM/512GB S...</td>\n",
              "    </tr>\n",
              "    <tr>\n",
              "      <th>3</th>\n",
              "      <td>HP 15s, 11th Gen Intel Core i5-1155G7, 15.6 in...</td>\n",
              "    </tr>\n",
              "    <tr>\n",
              "      <th>4</th>\n",
              "      <td>HP Victus Gaming Laptop AMD Ryzen 5 5600H 15.6...</td>\n",
              "    </tr>\n",
              "    <tr>\n",
              "      <th>...</th>\n",
              "      <td>...</td>\n",
              "    </tr>\n",
              "    <tr>\n",
              "      <th>91</th>\n",
              "      <td>HP Spectre 16 x360 12th Gen Intel Evo Core i7 ...</td>\n",
              "    </tr>\n",
              "    <tr>\n",
              "      <th>92</th>\n",
              "      <td>(Renewed) HP ChromeBook AMD A4 11.6 inches HD ...</td>\n",
              "    </tr>\n",
              "    <tr>\n",
              "      <th>93</th>\n",
              "      <td>(Renewed) HP EliteBook 840 G3 14.5-inch Laptop...</td>\n",
              "    </tr>\n",
              "    <tr>\n",
              "      <th>94</th>\n",
              "      <td>HP 15s AMD Ryzen 3-5300U 15.6inch(39.6cm) FHD ...</td>\n",
              "    </tr>\n",
              "    <tr>\n",
              "      <th>95</th>\n",
              "      <td>HP Spectre 16 x360 12th Gen Intel Evo Core i7 ...</td>\n",
              "    </tr>\n",
              "  </tbody>\n",
              "</table>\n",
              "<p>96 rows × 1 columns</p>\n",
              "</div>\n",
              "      <button class=\"colab-df-convert\" onclick=\"convertToInteractive('df-1d2b61f6-4633-4aa0-a5d4-ba8d926b94cd')\"\n",
              "              title=\"Convert this dataframe to an interactive table.\"\n",
              "              style=\"display:none;\">\n",
              "        \n",
              "  <svg xmlns=\"http://www.w3.org/2000/svg\" height=\"24px\"viewBox=\"0 0 24 24\"\n",
              "       width=\"24px\">\n",
              "    <path d=\"M0 0h24v24H0V0z\" fill=\"none\"/>\n",
              "    <path d=\"M18.56 5.44l.94 2.06.94-2.06 2.06-.94-2.06-.94-.94-2.06-.94 2.06-2.06.94zm-11 1L8.5 8.5l.94-2.06 2.06-.94-2.06-.94L8.5 2.5l-.94 2.06-2.06.94zm10 10l.94 2.06.94-2.06 2.06-.94-2.06-.94-.94-2.06-.94 2.06-2.06.94z\"/><path d=\"M17.41 7.96l-1.37-1.37c-.4-.4-.92-.59-1.43-.59-.52 0-1.04.2-1.43.59L10.3 9.45l-7.72 7.72c-.78.78-.78 2.05 0 2.83L4 21.41c.39.39.9.59 1.41.59.51 0 1.02-.2 1.41-.59l7.78-7.78 2.81-2.81c.8-.78.8-2.07 0-2.86zM5.41 20L4 18.59l7.72-7.72 1.47 1.35L5.41 20z\"/>\n",
              "  </svg>\n",
              "      </button>\n",
              "      \n",
              "  <style>\n",
              "    .colab-df-container {\n",
              "      display:flex;\n",
              "      flex-wrap:wrap;\n",
              "      gap: 12px;\n",
              "    }\n",
              "\n",
              "    .colab-df-convert {\n",
              "      background-color: #E8F0FE;\n",
              "      border: none;\n",
              "      border-radius: 50%;\n",
              "      cursor: pointer;\n",
              "      display: none;\n",
              "      fill: #1967D2;\n",
              "      height: 32px;\n",
              "      padding: 0 0 0 0;\n",
              "      width: 32px;\n",
              "    }\n",
              "\n",
              "    .colab-df-convert:hover {\n",
              "      background-color: #E2EBFA;\n",
              "      box-shadow: 0px 1px 2px rgba(60, 64, 67, 0.3), 0px 1px 3px 1px rgba(60, 64, 67, 0.15);\n",
              "      fill: #174EA6;\n",
              "    }\n",
              "\n",
              "    [theme=dark] .colab-df-convert {\n",
              "      background-color: #3B4455;\n",
              "      fill: #D2E3FC;\n",
              "    }\n",
              "\n",
              "    [theme=dark] .colab-df-convert:hover {\n",
              "      background-color: #434B5C;\n",
              "      box-shadow: 0px 1px 3px 1px rgba(0, 0, 0, 0.15);\n",
              "      filter: drop-shadow(0px 1px 2px rgba(0, 0, 0, 0.3));\n",
              "      fill: #FFFFFF;\n",
              "    }\n",
              "  </style>\n",
              "\n",
              "      <script>\n",
              "        const buttonEl =\n",
              "          document.querySelector('#df-1d2b61f6-4633-4aa0-a5d4-ba8d926b94cd button.colab-df-convert');\n",
              "        buttonEl.style.display =\n",
              "          google.colab.kernel.accessAllowed ? 'block' : 'none';\n",
              "\n",
              "        async function convertToInteractive(key) {\n",
              "          const element = document.querySelector('#df-1d2b61f6-4633-4aa0-a5d4-ba8d926b94cd');\n",
              "          const dataTable =\n",
              "            await google.colab.kernel.invokeFunction('convertToInteractive',\n",
              "                                                     [key], {});\n",
              "          if (!dataTable) return;\n",
              "\n",
              "          const docLinkHtml = 'Like what you see? Visit the ' +\n",
              "            '<a target=\"_blank\" href=https://colab.research.google.com/notebooks/data_table.ipynb>data table notebook</a>'\n",
              "            + ' to learn more about interactive tables.';\n",
              "          element.innerHTML = '';\n",
              "          dataTable['output_type'] = 'display_data';\n",
              "          await google.colab.output.renderOutput(dataTable, element);\n",
              "          const docLink = document.createElement('div');\n",
              "          docLink.innerHTML = docLinkHtml;\n",
              "          element.appendChild(docLink);\n",
              "        }\n",
              "      </script>\n",
              "    </div>\n",
              "  </div>\n",
              "  "
            ],
            "text/plain": [
              "                                             Raw data\n",
              "0   HP 15s,11th Gen Intel Core i3-1115G4 8GB RAM/5...\n",
              "1   HP 14s, 11th Gen Intel Core i3-1115G4, 8GB RAM...\n",
              "2   HP 15s, 12th Gen Intel Core i5 8GB RAM/512GB S...\n",
              "3   HP 15s, 11th Gen Intel Core i5-1155G7, 15.6 in...\n",
              "4   HP Victus Gaming Laptop AMD Ryzen 5 5600H 15.6...\n",
              "..                                                ...\n",
              "91  HP Spectre 16 x360 12th Gen Intel Evo Core i7 ...\n",
              "92  (Renewed) HP ChromeBook AMD A4 11.6 inches HD ...\n",
              "93  (Renewed) HP EliteBook 840 G3 14.5-inch Laptop...\n",
              "94  HP 15s AMD Ryzen 3-5300U 15.6inch(39.6cm) FHD ...\n",
              "95  HP Spectre 16 x360 12th Gen Intel Evo Core i7 ...\n",
              "\n",
              "[96 rows x 1 columns]"
            ]
          },
          "execution_count": 81,
          "metadata": {},
          "output_type": "execute_result"
        }
      ],
      "source": [
        "import pandas as pds\n",
        "df = pds.DataFrame(product_name,columns = ['Raw data'])#filter html codes and store into dataframe\n",
        "df"
      ]
    },
    {
      "cell_type": "code",
      "execution_count": null,
      "metadata": {
        "colab": {
          "base_uri": "https://localhost:8080/"
        },
        "id": "PJbBB75lx-II",
        "outputId": "0a5b486c-7ed5-43b7-e978-a123358a956e"
      },
      "outputs": [
        {
          "data": {
            "text/plain": [
              "0           HP 15s\n",
              "1           HP 14s\n",
              "2           HP 15s\n",
              "3           HP 15s\n",
              "4        HP Victus\n",
              "          ...     \n",
              "91              HP\n",
              "92              HP\n",
              "93    HP EliteBook\n",
              "94          HP 15s\n",
              "95              HP\n",
              "Name: Model Name, Length: 96, dtype: object"
            ]
          },
          "execution_count": 82,
          "metadata": {},
          "output_type": "execute_result"
        }
      ],
      "source": [
        "import re\n",
        "a=df['Raw data'].str.findall('HP 15s')\n",
        "b=df['Raw data'].str.findall('HP 14s')\n",
        "c=df['Raw data'].str.findall('HP Victus')\n",
        "d=df['Raw data'].str.findall('HP Ultra')\n",
        "e=df['Raw data'].str.findall('HP Pavilion')\n",
        "f=df['Raw data'].str.findall('HP 245 G8')\n",
        "g=df['Raw data'].str.findall('HP 255 G8')\n",
        "h=df['Raw data'].str.findall('HP 250 G8')\n",
        "i=df['Raw data'].str.findall('HP 247 G8')\n",
        "j=df['Raw data'].str.findall('HP Chromebook')\n",
        "k=df['Raw data'].str.findall('HP 840')\n",
        "l=df['Raw data'].str.findall('HP ProBook')\n",
        "m=df['Raw data'].str.findall('HP EliteBook')\n",
        "n=df['Raw data'].str.findall('HP 14')\n",
        "p=df['Raw data'].str.findall('HP OMEN Ryzen 7')\n",
        "q=df['Raw data'].str.findall('HP ELITEBOOK')\n",
        "r=df['Raw data'].str.findall('HP Envy')\n",
        "s=df['Raw data'].str.findall('HP')\n",
        "df['Model Name']=a+b+c+d+e+f+g+h+i+j+k+l+m+n+p+q+r+s\n",
        "df['Model Name']=df['Model Name'].str[0]\n",
        "df['Model Name']"
      ]
    },
    {
      "cell_type": "code",
      "execution_count": null,
      "metadata": {
        "colab": {
          "base_uri": "https://localhost:8080/"
        },
        "id": "PXuD1w0MLZul",
        "outputId": "5498a93d-79bc-4b5e-a2b4-1cc28ff3d9e4"
      },
      "outputs": [
        {
          "data": {
            "text/plain": [
              "0     11th\n",
              "1     11th\n",
              "2     12th\n",
              "3     11th\n",
              "4      NaN\n",
              "      ... \n",
              "91    12th\n",
              "92     NaN\n",
              "93     6th\n",
              "94     NaN\n",
              "95    12th\n",
              "Name: lap Gen, Length: 96, dtype: object"
            ]
          },
          "execution_count": 83,
          "metadata": {},
          "output_type": "execute_result"
        }
      ],
      "source": [
        "a=df['Raw data'].str.findall('11th')\n",
        "b=df['Raw data'].str.findall('12th')\n",
        "c=df['Raw data'].str.findall('8th')\n",
        "d=df['Raw data'].str.findall('6th')\n",
        "e=df['Raw data'].str.findall('11Th')\n",
        "f=df['Raw data'].str.findall('12Th')\n",
        "df['lap Gen']=a+b+c+d+e+f\n",
        "df['lap Gen']=df['lap Gen'].str[0]\n",
        "df['lap Gen']"
      ]
    },
    {
      "cell_type": "code",
      "execution_count": null,
      "metadata": {
        "colab": {
          "base_uri": "https://localhost:8080/"
        },
        "id": "bTUVrBoJ27gF",
        "outputId": "1bfadb04-d1cb-487f-d286-b6a549ce626b"
      },
      "outputs": [
        {
          "data": {
            "text/plain": [
              "0        8\n",
              "1        8\n",
              "2        8\n",
              "3        8\n",
              "4        8\n",
              "      ... \n",
              "91      16\n",
              "92      16\n",
              "93      16\n",
              "94    <NA>\n",
              "95      16\n",
              "Name: RAM, Length: 96, dtype: object"
            ]
          },
          "execution_count": 84,
          "metadata": {},
          "output_type": "execute_result"
        }
      ],
      "source": [
        "a=df['Raw data'].str.findall('8GB')\n",
        "b=df['Raw data'].str.findall('16GB')\n",
        "c=df['Raw data'].str.findall('8 GB')\n",
        "d=df['Raw data'].str.findall('16 GB')\n",
        "e=df['Raw data'].str.findall('4 GB')\n",
        "f=df['Raw data'].str.findall('8Gb')\n",
        "g=df['Raw data'].str.findall('4GB')\n",
        "h=df['Raw data'].str.findall('16Gb')\n",
        "df['RAM']=a+b+c+d+e+f+h+g\n",
        "df['RAM']=df['RAM'].str[0]\n",
        "df['RAM']=df['RAM'].astype('string')\n",
        "df['RAM']=df['RAM'].str.replace(' GB','')\n",
        "df['RAM']=df['RAM'].str.replace('GB','')\n",
        "df['RAM']=df['RAM'].str.replace('Gb','')\n",
        "df['RAM']=df['RAM'].astype('object')\n",
        "df['RAM']"
      ]
    },
    {
      "cell_type": "code",
      "execution_count": null,
      "metadata": {
        "colab": {
          "base_uri": "https://localhost:8080/"
        },
        "id": "FGLfXkIU9W0x",
        "outputId": "29f36bcd-a426-49db-dcc7-190beab7ff04"
      },
      "outputs": [
        {
          "data": {
            "text/plain": [
              "0     512GB\n",
              "1     256GB\n",
              "2     512GB\n",
              "3     512GB\n",
              "4     512GB\n",
              "      ...  \n",
              "91    512GB\n",
              "92     <NA>\n",
              "93      1TB\n",
              "94     <NA>\n",
              "95      1TB\n",
              "Name: Memory, Length: 96, dtype: string"
            ]
          },
          "execution_count": 85,
          "metadata": {},
          "output_type": "execute_result"
        }
      ],
      "source": [
        "a=df['Raw data'].str.findall('256')\n",
        "b=df['Raw data'].str.findall('512')\n",
        "c=df['Raw data'].str.findall('1TB')\n",
        "d=df['Raw data'].str.findall('64 GB')\n",
        "df['Memory']=a+b+c+d\n",
        "df['Memory']=df['Memory'].str[0]\n",
        "df['Memory']=df['Memory'].astype('string')\n",
        "df['Memory']=df['Memory'].str.replace('512','512GB')\n",
        "df['Memory']=df['Memory'].str.replace('256','256GB')\n",
        "df['Memory']"
      ]
    },
    {
      "cell_type": "code",
      "execution_count": null,
      "metadata": {
        "colab": {
          "base_uri": "https://localhost:8080/"
        },
        "id": "ND0nGltl_VnZ",
        "outputId": "a1cc3cf6-5382-4aaf-8e05-cf82d8d567e8"
      },
      "outputs": [
        {
          "data": {
            "text/plain": [
              "0     Intel Core i3\n",
              "1     Intel Core i3\n",
              "2     Intel Core i5\n",
              "3     Intel Core i5\n",
              "4         AMD Ryzen\n",
              "          ...      \n",
              "91             <NA>\n",
              "92             <NA>\n",
              "93             <NA>\n",
              "94        AMD Ryzen\n",
              "95             <NA>\n",
              "Name: Processor, Length: 96, dtype: object"
            ]
          },
          "execution_count": 86,
          "metadata": {},
          "output_type": "execute_result"
        }
      ],
      "source": [
        "x=df['Raw data'].str.findall('Intel Core i3')\n",
        "y=df['Raw data'].str.findall('Ryzen')\n",
        "z=df['Raw data'].str.findall('Intel Core i5')\n",
        "u=df['Raw data'].str.findall('Intel Celeron N4500')\n",
        "v=df['Raw data'].str.findall('AMD Athlon')\n",
        "a=df['Raw data'].str.findall('Intel Core i7')\n",
        "b=df['Raw data'].str.findall('MediaTek MT8183')\n",
        "df['Processor']=u+x+y+z+v+a+b\n",
        "df['Processor']=df['Processor'].str[0]\n",
        "df['Processor']=df['Processor'].astype('string')\n",
        "df['Processor']=df['Processor'].str.replace('Ryzen','AMD Ryzen')\n",
        "df['Processor']=df['Processor'].astype('object')\n",
        "df['Processor']"
      ]
    },
    {
      "cell_type": "code",
      "execution_count": null,
      "metadata": {
        "colab": {
          "base_uri": "https://localhost:8080/"
        },
        "id": "AQsUGLYfS1tg",
        "outputId": "cd7a5e13-4d43-4780-e648-1bdd8ece8324"
      },
      "outputs": [
        {
          "data": {
            "text/plain": [
              "0         Windows 11\n",
              "1         Windows 11\n",
              "2         Windows 11\n",
              "3         Windows 11\n",
              "4         Windows 11\n",
              "           ...      \n",
              "91        Windows 11\n",
              "92              <NA>\n",
              "93    Windows 10 Pro\n",
              "94              <NA>\n",
              "95        Windows 11\n",
              "Name: Op Sys, Length: 96, dtype: object"
            ]
          },
          "execution_count": 87,
          "metadata": {},
          "output_type": "execute_result"
        }
      ],
      "source": [
        "a=df['Raw data'].str.findall('Win 11')\n",
        "b=df['Raw data'].str.findall('Windows 10 Pro')\n",
        "c=df['Raw data'].str.findall('Windows 10')\n",
        "d=df['Raw data'].str.findall('Windows 11')\n",
        "e=df['Raw data'].str.findall('Win 10')\n",
        "df['Op Sys']=a+b+c+d+e\n",
        "df['Op Sys']=df['Op Sys'].str[0]\n",
        "df['Op Sys']=df['Op Sys'].astype('string')\n",
        "df['Op Sys']=df['Op Sys'].str.replace('Win 11','Windows 11')\n",
        "df['Op Sys']=df['Op Sys'].str.replace('Win 10','Windows 10')\n",
        "df['Op Sys']=df['Op Sys'].astype('object')\n",
        "df['Op Sys']"
      ]
    },
    {
      "cell_type": "code",
      "execution_count": null,
      "metadata": {
        "colab": {
          "base_uri": "https://localhost:8080/"
        },
        "id": "2X2YexWhStk-",
        "outputId": "768e0a29-358f-452f-8447-654ebaae0d7a"
      },
      "outputs": [
        {
          "data": {
            "text/plain": [
              "0         Intel UHD\n",
              "1         Intel UHD\n",
              "2     Intel Iris Xe\n",
              "3     Intel Iris Xe\n",
              "4        AMD Radeon\n",
              "          ...      \n",
              "91             <NA>\n",
              "92             <NA>\n",
              "93             <NA>\n",
              "94             <NA>\n",
              "95             <NA>\n",
              "Name: Gpu, Length: 96, dtype: object"
            ]
          },
          "execution_count": 88,
          "metadata": {},
          "output_type": "execute_result"
        }
      ],
      "source": [
        "a=df['Raw data'].str.findall('Intel UHD')\n",
        "b=df['Raw data'].str.findall('Intel Iris Xe')\n",
        "c=df['Raw data'].str.findall('Radeon')\n",
        "d=df['Raw data'].str.findall('Rtx 3050')\n",
        "e=df['Raw data'].str.findall('RTX 3050')\n",
        "f=df['Raw data'].str.findall('GTX 1650')\n",
        "g=df['Raw data'].str.findall('RTX 3060')\n",
        "df['Gpu']=a+b+c+d+e+f+g\n",
        "df['Gpu']=df['Gpu'].str[0]\n",
        "df['Gpu']=df['Gpu'].astype('string')\n",
        "df['Gpu']=df['Gpu'].str.replace('Radeon','AMD Radeon')\n",
        "df['Gpu']=df['Gpu'].astype('object')\n",
        "df['Gpu']"
      ]
    },
    {
      "cell_type": "code",
      "execution_count": null,
      "metadata": {
        "colab": {
          "base_uri": "https://localhost:8080/"
        },
        "id": "KXXpDCzqlsSn",
        "outputId": "d3c4bed5-7bc1-4625-9f8b-d8c997693563"
      },
      "outputs": [
        {
          "data": {
            "text/plain": [
              "0         New\n",
              "1         New\n",
              "2         New\n",
              "3         New\n",
              "4         New\n",
              "       ...   \n",
              "91        New\n",
              "92    Renewed\n",
              "93    Renewed\n",
              "94        New\n",
              "95        New\n",
              "Name: New/Renewed, Length: 96, dtype: object"
            ]
          },
          "execution_count": 89,
          "metadata": {},
          "output_type": "execute_result"
        }
      ],
      "source": [
        "a=df['Raw data'].str.findall('Renewed')\n",
        "df['New/Renewed']=a\n",
        "df['New/Renewed']=df['New/Renewed'].str[0]\n",
        "df['New/Renewed']=df['New/Renewed'].fillna('New')\n",
        "df['New/Renewed']"
      ]
    },
    {
      "cell_type": "code",
      "execution_count": null,
      "metadata": {
        "colab": {
          "base_uri": "https://localhost:8080/"
        },
        "id": "xNEIeVirXzQK",
        "outputId": "29c253b6-15f8-485a-fa64-134b1e6b4b8b"
      },
      "outputs": [
        {
          "data": {
            "text/plain": [
              "0     15.6\n",
              "1       14\n",
              "2     15.6\n",
              "3     15.6\n",
              "4       14\n",
              "      ... \n",
              "91     NaN\n",
              "92    11.6\n",
              "93      14\n",
              "94    15.6\n",
              "95     NaN\n",
              "Name: Lap Inches, Length: 96, dtype: object"
            ]
          },
          "execution_count": 90,
          "metadata": {},
          "output_type": "execute_result"
        }
      ],
      "source": [
        "u=df['Raw data'].str.findall('14')\n",
        "v=df['Raw data'].str.findall('15.6')\n",
        "x=df['Raw data'].str.findall('16.1')\n",
        "y=df['Raw data'].str.findall('11.6')\n",
        "z=df['Raw data'].str.findall('13.3')\n",
        "df['Lap Inches']=u+v+x+y+z\n",
        "df['Lap Inches']=df['Lap Inches'].str[0]\n",
        "df['Lap Inches']"
      ]
    },
    {
      "cell_type": "code",
      "execution_count": null,
      "metadata": {
        "colab": {
          "base_uri": "https://localhost:8080/"
        },
        "id": "5inlmtQb3awG",
        "outputId": "3452e066-cb68-4c8b-eefc-6c590cf35dde"
      },
      "outputs": [
        {
          "data": {
            "text/plain": [
              "0     1.69\n",
              "1     1.41\n",
              "2     1.41\n",
              "3      NaN\n",
              "4      NaN\n",
              "      ... \n",
              "91     NaN\n",
              "92     NaN\n",
              "93     NaN\n",
              "94     NaN\n",
              "95     NaN\n",
              "Name: Weight(Kg), Length: 96, dtype: float64"
            ]
          },
          "execution_count": 91,
          "metadata": {},
          "output_type": "execute_result"
        }
      ],
      "source": [
        "a=df['Raw data'].str.findall('1.69')\n",
        "b=df['Raw data'].str.findall('1.41')\n",
        "c=df['Raw data'].str.findall('1.46')\n",
        "d=df['Raw data'].str.findall('1.75')\n",
        "e=df['Raw data'].str.findall('1.74')\n",
        "f=df['Raw data'].str.findall('1.5 ')\n",
        "g=df['Raw data'].str.findall('1.07')\n",
        "h=df['Raw data'].str.findall('1.27')\n",
        "i=df['Raw data'].str.findall('1.49')\n",
        "j=df['Raw data'].str.findall('2.23')\n",
        "k=df['Raw data'].str.findall('2.48')\n",
        "l=df['Raw data'].str.findall('1.7')\n",
        "df['Weight(Kg)']=a+b+c+d+e+f+g+h+i+j+k+l\n",
        "df['Weight(Kg)']=df['Weight(Kg)'].str[0]\n",
        "df['Weight(Kg)']=df['Weight(Kg)'].astype('float64')\n",
        "df['Weight(Kg)']"
      ]
    },
    {
      "cell_type": "code",
      "execution_count": null,
      "metadata": {
        "colab": {
          "base_uri": "https://localhost:8080/"
        },
        "id": "jnDlpfGvsQXI",
        "outputId": "a30cd6a1-3d13-416b-9ae3-66ae15479a20"
      },
      "outputs": [
        {
          "data": {
            "text/plain": [
              "[<span class=\"a-price-whole\">40,990</span>,\n",
              " <span class=\"a-price-whole\">38,496</span>,\n",
              " <span class=\"a-price-whole\">56,990</span>,\n",
              " <span class=\"a-price-whole\">50,990</span>,\n",
              " <span class=\"a-price-whole\">56,490</span>,\n",
              " <span class=\"a-price-whole\">38,990</span>,\n",
              " <span class=\"a-price-whole\">47,990</span>,\n",
              " <span class=\"a-price-whole\">44,610</span>,\n",
              " <span class=\"a-price-whole\">66,700</span>,\n",
              " <span class=\"a-price-whole\">47,990</span>,\n",
              " <span class=\"a-price-whole\">66,990</span>,\n",
              " <span class=\"a-price-whole\">37,610</span>,\n",
              " <span class=\"a-price-whole\">40,990</span>,\n",
              " <span class=\"a-price-whole\">23,999</span>,\n",
              " <span class=\"a-price-whole\">29,018</span>,\n",
              " <span class=\"a-price-whole\">75,990</span>,\n",
              " <span class=\"a-price-whole\">18,763</span>,\n",
              " <span class=\"a-price-whole\">51,969</span>,\n",
              " <span class=\"a-price-whole\">17,930</span>,\n",
              " <span class=\"a-price-whole\">39,999</span>,\n",
              " <span class=\"a-price-whole\">20,213</span>,\n",
              " <span class=\"a-price-whole\">27,990</span>,\n",
              " <span class=\"a-price-whole\">84,999</span>,\n",
              " <span class=\"a-price-whole\">26,790</span>,\n",
              " <span class=\"a-price-whole\">52,990</span>,\n",
              " <span class=\"a-price-whole\">41,890</span>,\n",
              " <span class=\"a-price-whole\">32,490</span>,\n",
              " <span class=\"a-price-whole\">60,990</span>,\n",
              " <span class=\"a-price-whole\">72,990</span>,\n",
              " <span class=\"a-price-whole\">25,490</span>,\n",
              " <span class=\"a-price-whole\">62,990</span>,\n",
              " <span class=\"a-price-whole\">27,349</span>,\n",
              " <span class=\"a-price-whole\">31,490</span>,\n",
              " <span class=\"a-price-whole\">14,100</span>,\n",
              " <span class=\"a-price-whole\">17,586</span>,\n",
              " <span class=\"a-price-whole\">21,989</span>,\n",
              " <span class=\"a-price-whole\">79,990</span>,\n",
              " <span class=\"a-price-whole\">72,990</span>,\n",
              " <span class=\"a-price-whole\">17,990</span>,\n",
              " <span class=\"a-price-whole\">65,490</span>,\n",
              " <span class=\"a-price-whole\">68,800</span>,\n",
              " <span class=\"a-price-whole\">19,999</span>,\n",
              " <span class=\"a-price-whole\">35,666</span>,\n",
              " <span class=\"a-price-whole\">18,167</span>,\n",
              " <span class=\"a-price-whole\">19,990</span>,\n",
              " <span class=\"a-price-whole\">93,749</span>,\n",
              " <span class=\"a-price-whole\">21,990</span>,\n",
              " <span class=\"a-price-whole\">75,990</span>,\n",
              " <span class=\"a-price-whole\">33,489</span>,\n",
              " <span class=\"a-price-whole\">39,999</span>,\n",
              " <span class=\"a-price-whole\">70,990</span>,\n",
              " <span class=\"a-price-whole\">1,19,999</span>,\n",
              " <span class=\"a-price-whole\">18,990</span>,\n",
              " <span class=\"a-price-whole\">25,490</span>,\n",
              " <span class=\"a-price-whole\">18,302</span>,\n",
              " <span class=\"a-price-whole\">39,890</span>,\n",
              " <span class=\"a-price-whole\">23,641</span>,\n",
              " <span class=\"a-price-whole\">1,04,990</span>,\n",
              " <span class=\"a-price-whole\">68,590</span>,\n",
              " <span class=\"a-price-whole\">57,990</span>,\n",
              " <span class=\"a-price-whole\">39,690</span>,\n",
              " <span class=\"a-price-whole\">79,990</span>,\n",
              " <span class=\"a-price-whole\">69,057</span>,\n",
              " <span class=\"a-price-whole\">26,999</span>,\n",
              " <span class=\"a-price-whole\">38,496</span>,\n",
              " <span class=\"a-price-whole\">44,490</span>,\n",
              " <span class=\"a-price-whole\">61,578</span>,\n",
              " <span class=\"a-price-whole\">40,990</span>,\n",
              " <span class=\"a-price-whole\">1,03,999</span>,\n",
              " <span class=\"a-price-whole\">18,743</span>,\n",
              " <span class=\"a-price-whole\">13,200</span>,\n",
              " <span class=\"a-price-whole\">1,08,990</span>,\n",
              " <span class=\"a-price-whole\">45,779</span>,\n",
              " <span class=\"a-price-whole\">66,905</span>,\n",
              " <span class=\"a-price-whole\">85,200</span>,\n",
              " <span class=\"a-price-whole\">25,994</span>,\n",
              " <span class=\"a-price-whole\">1,03,190</span>,\n",
              " <span class=\"a-price-whole\">18,998</span>,\n",
              " <span class=\"a-price-whole\">27,231</span>,\n",
              " <span class=\"a-price-whole\">83,680</span>,\n",
              " <span class=\"a-price-whole\">18,998</span>,\n",
              " <span class=\"a-price-whole\">86,889</span>,\n",
              " <span class=\"a-price-whole\">59,990</span>,\n",
              " <span class=\"a-price-whole\">20,996</span>,\n",
              " <span class=\"a-price-whole\">1,62,990</span>,\n",
              " <span class=\"a-price-whole\">66,189</span>,\n",
              " <span class=\"a-price-whole\">1,18,490</span>,\n",
              " <span class=\"a-price-whole\">41,599</span>,\n",
              " <span class=\"a-price-whole\">19,192</span>,\n",
              " <span class=\"a-price-whole\">83,100</span>,\n",
              " <span class=\"a-price-whole\">53,868</span>,\n",
              " <span class=\"a-price-whole\">1,45,499</span>,\n",
              " <span class=\"a-price-whole\">12,999</span>,\n",
              " <span class=\"a-price-whole\">35,899</span>,\n",
              " <span class=\"a-price-whole\">38,959</span>,\n",
              " <span class=\"a-price-whole\">1,74,490</span>]"
            ]
          },
          "execution_count": 92,
          "metadata": {},
          "output_type": "execute_result"
        }
      ],
      "source": [
        "price1 = soup1.find_all('span',class_ = 'a-price-whole')#Extracting the price of the product\n",
        "price2 = soup2.find_all('span',class_ = 'a-price-whole')\n",
        "price3 = soup3.find_all('span',class_ = 'a-price-whole')\n",
        "price4 = soup4.find_all('span',class_ = 'a-price-whole')\n",
        "price = price1+price2+price3+price4\n",
        "price"
      ]
    },
    {
      "cell_type": "code",
      "execution_count": null,
      "metadata": {
        "colab": {
          "base_uri": "https://localhost:8080/"
        },
        "id": "FgjqV9ktsvJV",
        "outputId": "9366ccda-6f2d-4bac-c9a4-60bd51305d56"
      },
      "outputs": [
        {
          "data": {
            "text/plain": [
              "96"
            ]
          },
          "execution_count": 93,
          "metadata": {},
          "output_type": "execute_result"
        }
      ],
      "source": [
        "len(price)"
      ]
    },
    {
      "cell_type": "code",
      "execution_count": null,
      "metadata": {
        "colab": {
          "base_uri": "https://localhost:8080/"
        },
        "id": "XmXjuMhAugKU",
        "outputId": "b9913157-98f4-4835-d8da-ce9c8c58cc63"
      },
      "outputs": [
        {
          "data": {
            "text/plain": [
              "0     40990.0\n",
              "1     38496.0\n",
              "2     56990.0\n",
              "3     50990.0\n",
              "4     56490.0\n",
              "       ...   \n",
              "91     1454.0\n",
              "92    12999.0\n",
              "93    35899.0\n",
              "94    38959.0\n",
              "95     1744.0\n",
              "Name: Price, Length: 96, dtype: float64"
            ]
          },
          "execution_count": 94,
          "metadata": {},
          "output_type": "execute_result"
        }
      ],
      "source": [
        "df['Price']=price\n",
        "df['Price']=df['Price'].astype('string')\n",
        "df['Price']=df['Price'].str[28:34]\n",
        "df['Price']=df['Price'].str.replace('1,547<','1,547')\n",
        "df['Price']=df['Price'].str.replace('2,690<','2,690')\n",
        "df['Price']=df['Price'].str.replace('1,08,9','1,08,999')\n",
        "df['Price']=df['Price'].str.replace(',','')\n",
        "df['Price']=df['Price'].astype('float64')\n",
        "df['Price']"
      ]
    },
    {
      "cell_type": "code",
      "execution_count": null,
      "metadata": {
        "id": "HzwyTvQGGbVO"
      },
      "outputs": [],
      "source": [
        "del df['Raw data']#Delete the Raw data column"
      ]
    },
    {
      "cell_type": "code",
      "execution_count": null,
      "metadata": {
        "colab": {
          "base_uri": "https://localhost:8080/",
          "height": 2177
        },
        "id": "4fHbOqsNp2VG",
        "outputId": "f0be530e-5425-4b64-f7cf-7787888b638a"
      },
      "outputs": [
        {
          "data": {
            "text/html": [
              "\n",
              "  <div id=\"df-b1eb3934-0324-44bc-b0ad-c5e04870af36\">\n",
              "    <div class=\"colab-df-container\">\n",
              "      <div>\n",
              "<style scoped>\n",
              "    .dataframe tbody tr th:only-of-type {\n",
              "        vertical-align: middle;\n",
              "    }\n",
              "\n",
              "    .dataframe tbody tr th {\n",
              "        vertical-align: top;\n",
              "    }\n",
              "\n",
              "    .dataframe thead th {\n",
              "        text-align: right;\n",
              "    }\n",
              "</style>\n",
              "<table border=\"1\" class=\"dataframe\">\n",
              "  <thead>\n",
              "    <tr style=\"text-align: right;\">\n",
              "      <th></th>\n",
              "      <th>Model Name</th>\n",
              "      <th>lap Gen</th>\n",
              "      <th>RAM</th>\n",
              "      <th>Memory</th>\n",
              "      <th>Processor</th>\n",
              "      <th>Op Sys</th>\n",
              "      <th>Gpu</th>\n",
              "      <th>New/Renewed</th>\n",
              "      <th>Lap Inches</th>\n",
              "      <th>Weight(Kg)</th>\n",
              "      <th>Price</th>\n",
              "    </tr>\n",
              "  </thead>\n",
              "  <tbody>\n",
              "    <tr>\n",
              "      <th>0</th>\n",
              "      <td>HP 15s</td>\n",
              "      <td>11th</td>\n",
              "      <td>8</td>\n",
              "      <td>512GB</td>\n",
              "      <td>Intel Core i3</td>\n",
              "      <td>Windows 11</td>\n",
              "      <td>Intel UHD</td>\n",
              "      <td>New</td>\n",
              "      <td>15.6</td>\n",
              "      <td>1.69</td>\n",
              "      <td>40990.0</td>\n",
              "    </tr>\n",
              "    <tr>\n",
              "      <th>1</th>\n",
              "      <td>HP 14s</td>\n",
              "      <td>11th</td>\n",
              "      <td>8</td>\n",
              "      <td>256GB</td>\n",
              "      <td>Intel Core i3</td>\n",
              "      <td>Windows 11</td>\n",
              "      <td>Intel UHD</td>\n",
              "      <td>New</td>\n",
              "      <td>14</td>\n",
              "      <td>1.41</td>\n",
              "      <td>38496.0</td>\n",
              "    </tr>\n",
              "    <tr>\n",
              "      <th>2</th>\n",
              "      <td>HP 15s</td>\n",
              "      <td>12th</td>\n",
              "      <td>8</td>\n",
              "      <td>512GB</td>\n",
              "      <td>Intel Core i5</td>\n",
              "      <td>Windows 11</td>\n",
              "      <td>Intel Iris Xe</td>\n",
              "      <td>New</td>\n",
              "      <td>15.6</td>\n",
              "      <td>1.41</td>\n",
              "      <td>56990.0</td>\n",
              "    </tr>\n",
              "    <tr>\n",
              "      <th>3</th>\n",
              "      <td>HP 15s</td>\n",
              "      <td>11th</td>\n",
              "      <td>8</td>\n",
              "      <td>512GB</td>\n",
              "      <td>Intel Core i5</td>\n",
              "      <td>Windows 11</td>\n",
              "      <td>Intel Iris Xe</td>\n",
              "      <td>New</td>\n",
              "      <td>15.6</td>\n",
              "      <td>NaN</td>\n",
              "      <td>50990.0</td>\n",
              "    </tr>\n",
              "    <tr>\n",
              "      <th>4</th>\n",
              "      <td>HP Victus</td>\n",
              "      <td>NaN</td>\n",
              "      <td>8</td>\n",
              "      <td>512GB</td>\n",
              "      <td>AMD Ryzen</td>\n",
              "      <td>Windows 11</td>\n",
              "      <td>AMD Radeon</td>\n",
              "      <td>New</td>\n",
              "      <td>14</td>\n",
              "      <td>NaN</td>\n",
              "      <td>56490.0</td>\n",
              "    </tr>\n",
              "    <tr>\n",
              "      <th>...</th>\n",
              "      <td>...</td>\n",
              "      <td>...</td>\n",
              "      <td>...</td>\n",
              "      <td>...</td>\n",
              "      <td>...</td>\n",
              "      <td>...</td>\n",
              "      <td>...</td>\n",
              "      <td>...</td>\n",
              "      <td>...</td>\n",
              "      <td>...</td>\n",
              "      <td>...</td>\n",
              "    </tr>\n",
              "    <tr>\n",
              "      <th>91</th>\n",
              "      <td>HP</td>\n",
              "      <td>12th</td>\n",
              "      <td>16</td>\n",
              "      <td>512GB</td>\n",
              "      <td>&lt;NA&gt;</td>\n",
              "      <td>Windows 11</td>\n",
              "      <td>NaN</td>\n",
              "      <td>New</td>\n",
              "      <td>NaN</td>\n",
              "      <td>NaN</td>\n",
              "      <td>1454.0</td>\n",
              "    </tr>\n",
              "    <tr>\n",
              "      <th>92</th>\n",
              "      <td>HP</td>\n",
              "      <td>NaN</td>\n",
              "      <td>16</td>\n",
              "      <td>&lt;NA&gt;</td>\n",
              "      <td>&lt;NA&gt;</td>\n",
              "      <td>&lt;NA&gt;</td>\n",
              "      <td>NaN</td>\n",
              "      <td>Renewed</td>\n",
              "      <td>11.6</td>\n",
              "      <td>NaN</td>\n",
              "      <td>12999.0</td>\n",
              "    </tr>\n",
              "    <tr>\n",
              "      <th>93</th>\n",
              "      <td>HP EliteBook</td>\n",
              "      <td>6th</td>\n",
              "      <td>16</td>\n",
              "      <td>1TB</td>\n",
              "      <td>&lt;NA&gt;</td>\n",
              "      <td>Windows 10 Pro</td>\n",
              "      <td>NaN</td>\n",
              "      <td>Renewed</td>\n",
              "      <td>14</td>\n",
              "      <td>NaN</td>\n",
              "      <td>35899.0</td>\n",
              "    </tr>\n",
              "    <tr>\n",
              "      <th>94</th>\n",
              "      <td>HP 15s</td>\n",
              "      <td>NaN</td>\n",
              "      <td>&lt;NA&gt;</td>\n",
              "      <td>&lt;NA&gt;</td>\n",
              "      <td>AMD Ryzen</td>\n",
              "      <td>&lt;NA&gt;</td>\n",
              "      <td>NaN</td>\n",
              "      <td>New</td>\n",
              "      <td>15.6</td>\n",
              "      <td>NaN</td>\n",
              "      <td>38959.0</td>\n",
              "    </tr>\n",
              "    <tr>\n",
              "      <th>95</th>\n",
              "      <td>HP</td>\n",
              "      <td>12th</td>\n",
              "      <td>16</td>\n",
              "      <td>1TB</td>\n",
              "      <td>&lt;NA&gt;</td>\n",
              "      <td>Windows 11</td>\n",
              "      <td>NaN</td>\n",
              "      <td>New</td>\n",
              "      <td>NaN</td>\n",
              "      <td>NaN</td>\n",
              "      <td>1744.0</td>\n",
              "    </tr>\n",
              "  </tbody>\n",
              "</table>\n",
              "<p>96 rows × 11 columns</p>\n",
              "</div>\n",
              "      <button class=\"colab-df-convert\" onclick=\"convertToInteractive('df-b1eb3934-0324-44bc-b0ad-c5e04870af36')\"\n",
              "              title=\"Convert this dataframe to an interactive table.\"\n",
              "              style=\"display:none;\">\n",
              "        \n",
              "  <svg xmlns=\"http://www.w3.org/2000/svg\" height=\"24px\"viewBox=\"0 0 24 24\"\n",
              "       width=\"24px\">\n",
              "    <path d=\"M0 0h24v24H0V0z\" fill=\"none\"/>\n",
              "    <path d=\"M18.56 5.44l.94 2.06.94-2.06 2.06-.94-2.06-.94-.94-2.06-.94 2.06-2.06.94zm-11 1L8.5 8.5l.94-2.06 2.06-.94-2.06-.94L8.5 2.5l-.94 2.06-2.06.94zm10 10l.94 2.06.94-2.06 2.06-.94-2.06-.94-.94-2.06-.94 2.06-2.06.94z\"/><path d=\"M17.41 7.96l-1.37-1.37c-.4-.4-.92-.59-1.43-.59-.52 0-1.04.2-1.43.59L10.3 9.45l-7.72 7.72c-.78.78-.78 2.05 0 2.83L4 21.41c.39.39.9.59 1.41.59.51 0 1.02-.2 1.41-.59l7.78-7.78 2.81-2.81c.8-.78.8-2.07 0-2.86zM5.41 20L4 18.59l7.72-7.72 1.47 1.35L5.41 20z\"/>\n",
              "  </svg>\n",
              "      </button>\n",
              "      \n",
              "  <style>\n",
              "    .colab-df-container {\n",
              "      display:flex;\n",
              "      flex-wrap:wrap;\n",
              "      gap: 12px;\n",
              "    }\n",
              "\n",
              "    .colab-df-convert {\n",
              "      background-color: #E8F0FE;\n",
              "      border: none;\n",
              "      border-radius: 50%;\n",
              "      cursor: pointer;\n",
              "      display: none;\n",
              "      fill: #1967D2;\n",
              "      height: 32px;\n",
              "      padding: 0 0 0 0;\n",
              "      width: 32px;\n",
              "    }\n",
              "\n",
              "    .colab-df-convert:hover {\n",
              "      background-color: #E2EBFA;\n",
              "      box-shadow: 0px 1px 2px rgba(60, 64, 67, 0.3), 0px 1px 3px 1px rgba(60, 64, 67, 0.15);\n",
              "      fill: #174EA6;\n",
              "    }\n",
              "\n",
              "    [theme=dark] .colab-df-convert {\n",
              "      background-color: #3B4455;\n",
              "      fill: #D2E3FC;\n",
              "    }\n",
              "\n",
              "    [theme=dark] .colab-df-convert:hover {\n",
              "      background-color: #434B5C;\n",
              "      box-shadow: 0px 1px 3px 1px rgba(0, 0, 0, 0.15);\n",
              "      filter: drop-shadow(0px 1px 2px rgba(0, 0, 0, 0.3));\n",
              "      fill: #FFFFFF;\n",
              "    }\n",
              "  </style>\n",
              "\n",
              "      <script>\n",
              "        const buttonEl =\n",
              "          document.querySelector('#df-b1eb3934-0324-44bc-b0ad-c5e04870af36 button.colab-df-convert');\n",
              "        buttonEl.style.display =\n",
              "          google.colab.kernel.accessAllowed ? 'block' : 'none';\n",
              "\n",
              "        async function convertToInteractive(key) {\n",
              "          const element = document.querySelector('#df-b1eb3934-0324-44bc-b0ad-c5e04870af36');\n",
              "          const dataTable =\n",
              "            await google.colab.kernel.invokeFunction('convertToInteractive',\n",
              "                                                     [key], {});\n",
              "          if (!dataTable) return;\n",
              "\n",
              "          const docLinkHtml = 'Like what you see? Visit the ' +\n",
              "            '<a target=\"_blank\" href=https://colab.research.google.com/notebooks/data_table.ipynb>data table notebook</a>'\n",
              "            + ' to learn more about interactive tables.';\n",
              "          element.innerHTML = '';\n",
              "          dataTable['output_type'] = 'display_data';\n",
              "          await google.colab.output.renderOutput(dataTable, element);\n",
              "          const docLink = document.createElement('div');\n",
              "          docLink.innerHTML = docLinkHtml;\n",
              "          element.appendChild(docLink);\n",
              "        }\n",
              "      </script>\n",
              "    </div>\n",
              "  </div>\n",
              "  "
            ],
            "text/plain": [
              "      Model Name lap Gen   RAM Memory      Processor          Op Sys  \\\n",
              "0         HP 15s    11th     8  512GB  Intel Core i3      Windows 11   \n",
              "1         HP 14s    11th     8  256GB  Intel Core i3      Windows 11   \n",
              "2         HP 15s    12th     8  512GB  Intel Core i5      Windows 11   \n",
              "3         HP 15s    11th     8  512GB  Intel Core i5      Windows 11   \n",
              "4      HP Victus     NaN     8  512GB      AMD Ryzen      Windows 11   \n",
              "..           ...     ...   ...    ...            ...             ...   \n",
              "91            HP    12th    16  512GB           <NA>      Windows 11   \n",
              "92            HP     NaN    16   <NA>           <NA>            <NA>   \n",
              "93  HP EliteBook     6th    16    1TB           <NA>  Windows 10 Pro   \n",
              "94        HP 15s     NaN  <NA>   <NA>      AMD Ryzen            <NA>   \n",
              "95            HP    12th    16    1TB           <NA>      Windows 11   \n",
              "\n",
              "              Gpu New/Renewed Lap Inches  Weight(Kg)    Price  \n",
              "0       Intel UHD         New       15.6        1.69  40990.0  \n",
              "1       Intel UHD         New         14        1.41  38496.0  \n",
              "2   Intel Iris Xe         New       15.6        1.41  56990.0  \n",
              "3   Intel Iris Xe         New       15.6         NaN  50990.0  \n",
              "4      AMD Radeon         New         14         NaN  56490.0  \n",
              "..            ...         ...        ...         ...      ...  \n",
              "91            NaN         New        NaN         NaN   1454.0  \n",
              "92            NaN     Renewed       11.6         NaN  12999.0  \n",
              "93            NaN     Renewed         14         NaN  35899.0  \n",
              "94            NaN         New       15.6         NaN  38959.0  \n",
              "95            NaN         New        NaN         NaN   1744.0  \n",
              "\n",
              "[96 rows x 11 columns]"
            ]
          },
          "execution_count": 96,
          "metadata": {},
          "output_type": "execute_result"
        }
      ],
      "source": [
        "df"
      ]
    },
    {
      "cell_type": "code",
      "execution_count": null,
      "metadata": {
        "id": "iIjidvgSoyg1"
      },
      "outputs": [],
      "source": [
        "df.to_csv('HP Laptop spec.csv')#Download data set into csv file"
      ]
    },
    {
      "cell_type": "markdown",
      "source": [
        "#DATA ANALYZING"
      ],
      "metadata": {
        "id": "l_prGlsPMEGB"
      }
    },
    {
      "cell_type": "code",
      "execution_count": null,
      "metadata": {
        "colab": {
          "base_uri": "https://localhost:8080/"
        },
        "id": "I96aH0emT1sJ",
        "outputId": "44dc601c-44e1-437c-c6e1-a793b202a367"
      },
      "outputs": [
        {
          "name": "stdout",
          "output_type": "stream",
          "text": [
            "<class 'pandas.core.frame.DataFrame'>\n",
            "RangeIndex: 96 entries, 0 to 95\n",
            "Data columns (total 11 columns):\n",
            " #   Column       Non-Null Count  Dtype  \n",
            "---  ------       --------------  -----  \n",
            " 0   Model Name   92 non-null     object \n",
            " 1   lap Gen      50 non-null     object \n",
            " 2   RAM          95 non-null     object \n",
            " 3   Memory       81 non-null     string \n",
            " 4   Processor    73 non-null     object \n",
            " 5   Op Sys       78 non-null     object \n",
            " 6   Gpu          47 non-null     object \n",
            " 7   New/Renewed  96 non-null     object \n",
            " 8   Lap Inches   92 non-null     object \n",
            " 9   Weight(Kg)   31 non-null     float64\n",
            " 10  Price        96 non-null     float64\n",
            "dtypes: float64(2), object(8), string(1)\n",
            "memory usage: 8.4+ KB\n"
          ]
        }
      ],
      "source": [
        "df.info()"
      ]
    },
    {
      "cell_type": "code",
      "execution_count": null,
      "metadata": {
        "colab": {
          "base_uri": "https://localhost:8080/"
        },
        "id": "ji9FjLEDT2RJ",
        "outputId": "cfaf4d2e-90bb-4d21-a913-69ed6708097e"
      },
      "outputs": [
        {
          "data": {
            "text/plain": [
              "(96, 11)"
            ]
          },
          "execution_count": 99,
          "metadata": {},
          "output_type": "execute_result"
        }
      ],
      "source": [
        "df.shape"
      ]
    },
    {
      "cell_type": "code",
      "execution_count": null,
      "metadata": {
        "colab": {
          "base_uri": "https://localhost:8080/"
        },
        "id": "_2npmgt2UKOS",
        "outputId": "7ebfdebf-2208-452c-ee77-c532f3a8f9e8"
      },
      "outputs": [
        {
          "data": {
            "text/plain": [
              "1056"
            ]
          },
          "execution_count": 100,
          "metadata": {},
          "output_type": "execute_result"
        }
      ],
      "source": [
        "df.size"
      ]
    },
    {
      "cell_type": "code",
      "execution_count": null,
      "metadata": {
        "colab": {
          "base_uri": "https://localhost:8080/"
        },
        "id": "BGDclruIWQI7",
        "outputId": "f4440cbb-400c-43f6-a4a7-9f0cf4a42c62"
      },
      "outputs": [
        {
          "data": {
            "text/plain": [
              "HP Pavilion        18\n",
              "HP 15s             17\n",
              "HP                 11\n",
              "HP Victus           8\n",
              "HP Chromebook       7\n",
              "HP 14s              6\n",
              "HP Envy             5\n",
              "HP EliteBook        4\n",
              "HP 840              4\n",
              "HP ProBook          3\n",
              "HP Ultra            2\n",
              "HP 250 G8           2\n",
              "HP 245 G8           1\n",
              "HP 255 G8           1\n",
              "HP 247 G8           1\n",
              "HP ELITEBOOK        1\n",
              "HP OMEN Ryzen 7     1\n",
              "Name: Model Name, dtype: int64"
            ]
          },
          "execution_count": 101,
          "metadata": {},
          "output_type": "execute_result"
        }
      ],
      "source": [
        "df['Model Name'].value_counts()"
      ]
    },
    {
      "cell_type": "code",
      "execution_count": null,
      "metadata": {
        "colab": {
          "base_uri": "https://localhost:8080/"
        },
        "id": "mFTGtM0zsUYs",
        "outputId": "fab4c4c0-e7f9-45e4-d6eb-8a705ae65c4a"
      },
      "outputs": [
        {
          "data": {
            "text/plain": [
              "512GB    51\n",
              "256GB    15\n",
              "1TB      12\n",
              "64 GB     3\n",
              "Name: Memory, dtype: Int64"
            ]
          },
          "execution_count": 102,
          "metadata": {},
          "output_type": "execute_result"
        }
      ],
      "source": [
        "df['Memory'].value_counts()"
      ]
    },
    {
      "cell_type": "code",
      "execution_count": null,
      "metadata": {
        "colab": {
          "base_uri": "https://localhost:8080/"
        },
        "id": "-0y0mLAjZ2WE",
        "outputId": "5874e3fa-9d52-4c52-cea3-0b465a298808"
      },
      "outputs": [
        {
          "data": {
            "text/plain": [
              "Intel Core i5          24\n",
              "AMD Ryzen              22\n",
              "Intel Core i3          14\n",
              "Intel Core i7           7\n",
              "AMD Athlon              3\n",
              "MediaTek MT8183         2\n",
              "Intel Celeron N4500     1\n",
              "Name: Processor, dtype: int64"
            ]
          },
          "execution_count": 103,
          "metadata": {},
          "output_type": "execute_result"
        }
      ],
      "source": [
        "df['Processor'].value_counts()"
      ]
    },
    {
      "cell_type": "code",
      "execution_count": null,
      "metadata": {
        "colab": {
          "base_uri": "https://localhost:8080/"
        },
        "id": "sGxchanQaxbj",
        "outputId": "a7e42540-2d2e-4c0f-c554-50c3d108b319"
      },
      "outputs": [
        {
          "data": {
            "text/plain": [
              "14      53\n",
              "15.6    26\n",
              "11.6     6\n",
              "13.3     5\n",
              "16.1     2\n",
              "Name: Lap Inches, dtype: int64"
            ]
          },
          "execution_count": 104,
          "metadata": {},
          "output_type": "execute_result"
        }
      ],
      "source": [
        "df['Lap Inches'].value_counts()"
      ]
    },
    {
      "cell_type": "code",
      "execution_count": null,
      "metadata": {
        "colab": {
          "base_uri": "https://localhost:8080/"
        },
        "id": "aNTfeovBb1uK",
        "outputId": "051527aa-4c65-483e-872f-ce2b9d592232"
      },
      "outputs": [
        {
          "data": {
            "text/plain": [
              "8     56\n",
              "16    31\n",
              "4      8\n",
              "Name: RAM, dtype: int64"
            ]
          },
          "execution_count": 105,
          "metadata": {},
          "output_type": "execute_result"
        }
      ],
      "source": [
        "df['RAM'].value_counts()"
      ]
    },
    {
      "cell_type": "code",
      "execution_count": null,
      "metadata": {
        "colab": {
          "base_uri": "https://localhost:8080/"
        },
        "id": "IDoivyNQqgDc",
        "outputId": "e83a1e8a-a9ad-4b3e-fa88-53d249012e81"
      },
      "outputs": [
        {
          "data": {
            "text/plain": [
              "Windows 11        56\n",
              "Windows 10 Pro    13\n",
              "Windows 10         9\n",
              "Name: Op Sys, dtype: int64"
            ]
          },
          "execution_count": 106,
          "metadata": {},
          "output_type": "execute_result"
        }
      ],
      "source": [
        "df['Op Sys'].value_counts()"
      ]
    },
    {
      "cell_type": "code",
      "execution_count": null,
      "metadata": {
        "colab": {
          "base_uri": "https://localhost:8080/"
        },
        "id": "MDDRbGpjq-SY",
        "outputId": "85741a69-66f5-4dc0-cd7e-8552accda293"
      },
      "outputs": [
        {
          "data": {
            "text/plain": [
              "New        69\n",
              "Renewed    27\n",
              "Name: New/Renewed, dtype: int64"
            ]
          },
          "execution_count": 107,
          "metadata": {},
          "output_type": "execute_result"
        }
      ],
      "source": [
        "df['New/Renewed'].value_counts()"
      ]
    },
    {
      "cell_type": "code",
      "execution_count": null,
      "metadata": {
        "colab": {
          "base_uri": "https://localhost:8080/"
        },
        "id": "A6h9s3NOrUM5",
        "outputId": "a3acc2ee-0087-4ad4-9140-0a1e912559b3"
      },
      "outputs": [
        {
          "data": {
            "text/plain": [
              "AMD Radeon       18\n",
              "Intel Iris Xe    14\n",
              "Intel UHD         8\n",
              "RTX 3050          5\n",
              "GTX 1650          1\n",
              "RTX 3060          1\n",
              "Name: Gpu, dtype: int64"
            ]
          },
          "execution_count": 108,
          "metadata": {},
          "output_type": "execute_result"
        }
      ],
      "source": [
        "df['Gpu'].value_counts()"
      ]
    },
    {
      "cell_type": "markdown",
      "metadata": {
        "id": "z4vpJ8rZuc0T"
      },
      "source": [
        "#Data Visualization\n",
        "##Density of the features"
      ]
    },
    {
      "cell_type": "code",
      "execution_count": null,
      "metadata": {
        "colab": {
          "base_uri": "https://localhost:8080/",
          "height": 673
        },
        "id": "60VQcL0lUcX8",
        "outputId": "fb67b284-c07c-47b0-e804-b04805b5d5b1"
      },
      "outputs": [
        {
          "name": "stderr",
          "output_type": "stream",
          "text": [
            "<ipython-input-109-b020f02619da>:2: UserWarning: \n",
            "\n",
            "`distplot` is a deprecated function and will be removed in seaborn v0.14.0.\n",
            "\n",
            "Please adapt your code to use either `displot` (a figure-level function with\n",
            "similar flexibility) or `histplot` (an axes-level function for histograms).\n",
            "\n",
            "For a guide to updating your code to use the new functions, please see\n",
            "https://gist.github.com/mwaskom/de44147ed2974457ad6372750bbe5751\n",
            "\n",
            "  sns.distplot(df['Price'])\n"
          ]
        },
        {
          "data": {
            "text/plain": [
              "<Axes: xlabel='Price', ylabel='Density'>"
            ]
          },
          "execution_count": 109,
          "metadata": {},
          "output_type": "execute_result"
        },
        {
          "data": {
            "image/png": "[encoded data removed]",
            "text/plain": [
              "<Figure size 640x480 with 1 Axes>"
            ]
          },
          "metadata": {},
          "output_type": "display_data"
        }
      ],
      "source": [
        "import seaborn as sns\n",
        "sns.distplot(df['Price'])"
      ]
    },
    {
      "cell_type": "code",
      "execution_count": null,
      "metadata": {
        "colab": {
          "base_uri": "https://localhost:8080/",
          "height": 557
        },
        "id": "T6PnJ6nJWpQM",
        "outputId": "8b9f3b7c-78a2-44c1-a65c-0e640f8903b2"
      },
      "outputs": [
        {
          "data": {
            "text/plain": [
              "<Axes: >"
            ]
          },
          "execution_count": 110,
          "metadata": {},
          "output_type": "execute_result"
        },
        {
          "data": {
            "image/png": "[encoded data removed]",
            "text/plain": [
              "<Figure size 640x480 with 1 Axes>"
            ]
          },
          "metadata": {},
          "output_type": "display_data"
        }
      ],
      "source": [
        "df['Model Name'].value_counts().plot(kind = 'bar')"
      ]
    },
    {
      "cell_type": "code",
      "execution_count": null,
      "metadata": {
        "colab": {
          "base_uri": "https://localhost:8080/",
          "height": 574
        },
        "id": "CSEddJDGaTya",
        "outputId": "276b91d2-a84d-4b8d-b439-cb51d779a19d"
      },
      "outputs": [
        {
          "data": {
            "text/plain": [
              "<Axes: >"
            ]
          },
          "execution_count": 111,
          "metadata": {},
          "output_type": "execute_result"
        },
        {
          "data": {
            "image/png": "[encoded data removed]",
            "text/plain": [
              "<Figure size 640x480 with 1 Axes>"
            ]
          },
          "metadata": {},
          "output_type": "display_data"
        }
      ],
      "source": [
        "df['Processor'].value_counts().plot(kind = 'bar')"
      ]
    },
    {
      "cell_type": "code",
      "execution_count": null,
      "metadata": {
        "colab": {
          "base_uri": "https://localhost:8080/",
          "height": 464
        },
        "id": "kJVkzbiHbXJv",
        "outputId": "5a7bfa51-dc7e-45af-f028-5c2b6e622abe"
      },
      "outputs": [
        {
          "data": {
            "text/plain": [
              "<Axes: >"
            ]
          },
          "execution_count": 112,
          "metadata": {},
          "output_type": "execute_result"
        },
        {
          "data": {
            "image/png": "[encoded data removed]",
            "text/plain": [
              "<Figure size 640x480 with 1 Axes>"
            ]
          },
          "metadata": {},
          "output_type": "display_data"
        }
      ],
      "source": [
        "df['Lap Inches'].value_counts().plot(kind = 'bar')"
      ]
    },
    {
      "cell_type": "code",
      "execution_count": null,
      "metadata": {
        "colab": {
          "base_uri": "https://localhost:8080/",
          "height": 480
        },
        "id": "3V3jMGfDnBUp",
        "outputId": "a1a4edc6-dd19-43bf-c23d-65313306050b"
      },
      "outputs": [
        {
          "data": {
            "text/plain": [
              "<Axes: >"
            ]
          },
          "execution_count": 113,
          "metadata": {},
          "output_type": "execute_result"
        },
        {
          "data": {
            "image/png": "[encoded data removed]",
            "text/plain": [
              "<Figure size 640x480 with 1 Axes>"
            ]
          },
          "metadata": {},
          "output_type": "display_data"
        }
      ],
      "source": [
        "df['Memory'].value_counts().plot(kind ='bar')"
      ]
    },
    {
      "cell_type": "code",
      "execution_count": null,
      "metadata": {
        "colab": {
          "base_uri": "https://localhost:8080/",
          "height": 522
        },
        "id": "PVyn7jXjsFZR",
        "outputId": "fdede3ae-28f0-4009-c251-351bcf4b4f90"
      },
      "outputs": [
        {
          "data": {
            "text/plain": [
              "<Axes: >"
            ]
          },
          "execution_count": 114,
          "metadata": {},
          "output_type": "execute_result"
        },
        {
          "data": {
            "image/png": "[encoded data removed]",
            "text/plain": [
              "<Figure size 640x480 with 1 Axes>"
            ]
          },
          "metadata": {},
          "output_type": "display_data"
        }
      ],
      "source": [
        "df['Gpu'].value_counts().plot(kind = 'bar')"
      ]
    },
    {
      "cell_type": "code",
      "execution_count": null,
      "metadata": {
        "colab": {
          "base_uri": "https://localhost:8080/",
          "height": 543
        },
        "id": "kiXSvjknsTUD",
        "outputId": "24711023-c347-4cd7-beb2-bc2d08c3d460"
      },
      "outputs": [
        {
          "data": {
            "text/plain": [
              "<Axes: >"
            ]
          },
          "execution_count": 115,
          "metadata": {},
          "output_type": "execute_result"
        },
        {
          "data": {
            "image/png": "[encoded data removed]",
            "text/plain": [
              "<Figure size 640x480 with 1 Axes>"
            ]
          },
          "metadata": {},
          "output_type": "display_data"
        }
      ],
      "source": [
        "df['Op Sys'].value_counts().plot(kind = 'bar')"
      ]
    },
    {
      "cell_type": "markdown",
      "metadata": {
        "id": "9jSgboQhvGpg"
      },
      "source": [
        "##Relation between all other features with price"
      ]
    },
    {
      "cell_type": "code",
      "execution_count": null,
      "metadata": {
        "colab": {
          "base_uri": "https://localhost:8080/",
          "height": 959
        },
        "id": "4kKlqf8PW9sK",
        "outputId": "e5ffc14f-5169-47c2-9c55-a51528846304"
      },
      "outputs": [
        {
          "name": "stderr",
          "output_type": "stream",
          "text": [
            "<ipython-input-116-519dc304c273>:2: FutureWarning: \n",
            "\n",
            "The `ci` parameter is deprecated. Use `errorbar=None` for the same effect.\n",
            "\n",
            "  sns.barplot(x=df['Model Name'],y=df['Price'],ci=None)\n"
          ]
        },
        {
          "data": {
            "text/plain": [
              "(array([ 0,  1,  2,  3,  4,  5,  6,  7,  8,  9, 10, 11, 12, 13, 14, 15, 16]),\n",
              " [Text(0, 0, 'HP 15s'),\n",
              "  Text(1, 0, 'HP 14s'),\n",
              "  Text(2, 0, 'HP Victus'),\n",
              "  Text(3, 0, 'HP Pavilion'),\n",
              "  Text(4, 0, 'HP 247 G8'),\n",
              "  Text(5, 0, 'HP 245 G8'),\n",
              "  Text(6, 0, 'HP 840'),\n",
              "  Text(7, 0, 'HP Chromebook'),\n",
              "  Text(8, 0, 'HP EliteBook'),\n",
              "  Text(9, 0, 'HP ProBook'),\n",
              "  Text(10, 0, 'HP'),\n",
              "  Text(11, 0, 'HP 255 G8'),\n",
              "  Text(12, 0, 'HP Ultra'),\n",
              "  Text(13, 0, 'HP 250 G8'),\n",
              "  Text(14, 0, 'HP Envy'),\n",
              "  Text(15, 0, 'HP ELITEBOOK'),\n",
              "  Text(16, 0, 'HP OMEN Ryzen 7')])"
            ]
          },
          "execution_count": 116,
          "metadata": {},
          "output_type": "execute_result"
        },
        {
          "data": {
            "image/png": "[encoded data removed]",
            "text/plain": [
              "<Figure size 640x480 with 1 Axes>"
            ]
          },
          "metadata": {},
          "output_type": "display_data"
        }
      ],
      "source": [
        "import matplotlib.pyplot as plt\n",
        "sns.barplot(x=df['Model Name'],y=df['Price'],ci=None)\n",
        "plt.xticks(rotation = 75)"
      ]
    },
    {
      "cell_type": "code",
      "execution_count": null,
      "metadata": {
        "colab": {
          "base_uri": "https://localhost:8080/",
          "height": 553
        },
        "id": "c3FgWRMDwtdB",
        "outputId": "56ede057-724c-4046-8016-54338ce45f78"
      },
      "outputs": [
        {
          "name": "stderr",
          "output_type": "stream",
          "text": [
            "<ipython-input-117-d93b88388102>:1: FutureWarning: \n",
            "\n",
            "The `ci` parameter is deprecated. Use `errorbar=None` for the same effect.\n",
            "\n",
            "  sns.barplot(x = df['Op Sys'],y = df['Price'],ci=None)\n"
          ]
        },
        {
          "data": {
            "text/plain": [
              "<Axes: xlabel='Op Sys', ylabel='Price'>"
            ]
          },
          "execution_count": 117,
          "metadata": {},
          "output_type": "execute_result"
        },
        {
          "data": {
            "image/png": "[encoded data removed]",
            "text/plain": [
              "<Figure size 640x480 with 1 Axes>"
            ]
          },
          "metadata": {},
          "output_type": "display_data"
        }
      ],
      "source": [
        "sns.barplot(x = df['Op Sys'],y = df['Price'],ci=None)"
      ]
    },
    {
      "cell_type": "code",
      "execution_count": null,
      "metadata": {
        "colab": {
          "base_uri": "https://localhost:8080/",
          "height": 733
        },
        "id": "8bbhBw-fxRK1",
        "outputId": "04552697-8ac8-49ca-d03b-097dab5efb8a"
      },
      "outputs": [
        {
          "name": "stderr",
          "output_type": "stream",
          "text": [
            "<ipython-input-118-207c899ae0dd>:1: FutureWarning: \n",
            "\n",
            "The `ci` parameter is deprecated. Use `errorbar=None` for the same effect.\n",
            "\n",
            "  sns.barplot(x = df['Gpu'],y = df['Price'],ci=None)\n"
          ]
        },
        {
          "data": {
            "text/plain": [
              "(array([0, 1, 2, 3, 4, 5]),\n",
              " [Text(0, 0, 'Intel UHD'),\n",
              "  Text(1, 0, 'Intel Iris Xe'),\n",
              "  Text(2, 0, 'AMD Radeon'),\n",
              "  Text(3, 0, 'RTX 3050'),\n",
              "  Text(4, 0, 'GTX 1650'),\n",
              "  Text(5, 0, 'RTX 3060')])"
            ]
          },
          "execution_count": 118,
          "metadata": {},
          "output_type": "execute_result"
        },
        {
          "data": {
            "image/png": "[encoded data removed]",
            "text/plain": [
              "<Figure size 640x480 with 1 Axes>"
            ]
          },
          "metadata": {},
          "output_type": "display_data"
        }
      ],
      "source": [
        "sns.barplot(x = df['Gpu'],y = df['Price'],ci=None)\n",
        "plt.xticks(rotation = 75)"
      ]
    },
    {
      "cell_type": "code",
      "execution_count": null,
      "metadata": {
        "colab": {
          "base_uri": "https://localhost:8080/",
          "height": 553
        },
        "id": "_KpQen8tyLF0",
        "outputId": "57eb96a2-0bbc-458a-fba5-6ecd978ce1f6"
      },
      "outputs": [
        {
          "name": "stderr",
          "output_type": "stream",
          "text": [
            "<ipython-input-119-64334f1b99cd>:1: FutureWarning: \n",
            "\n",
            "The `ci` parameter is deprecated. Use `errorbar=None` for the same effect.\n",
            "\n",
            "  sns.barplot(x = df['New/Renewed'],y = df['Price'],ci=None)\n"
          ]
        },
        {
          "data": {
            "text/plain": [
              "<Axes: xlabel='New/Renewed', ylabel='Price'>"
            ]
          },
          "execution_count": 119,
          "metadata": {},
          "output_type": "execute_result"
        },
        {
          "data": {
            "image/png": "[encoded data removed]",
            "text/plain": [
              "<Figure size 640x480 with 1 Axes>"
            ]
          },
          "metadata": {},
          "output_type": "display_data"
        }
      ],
      "source": [
        "sns.barplot(x = df['New/Renewed'],y = df['Price'],ci=None)"
      ]
    },
    {
      "cell_type": "code",
      "execution_count": null,
      "metadata": {
        "colab": {
          "base_uri": "https://localhost:8080/",
          "height": 553
        },
        "id": "rYEfxHjfs9H5",
        "outputId": "dd8c2025-9b7c-41d2-c374-935ce07f3744"
      },
      "outputs": [
        {
          "name": "stderr",
          "output_type": "stream",
          "text": [
            "<ipython-input-120-d7554a7531fa>:1: FutureWarning: \n",
            "\n",
            "The `ci` parameter is deprecated. Use `errorbar=None` for the same effect.\n",
            "\n",
            "  sns.barplot(x = df['Lap Inches'],y = df['Price'],ci=None)\n"
          ]
        },
        {
          "data": {
            "text/plain": [
              "<Axes: xlabel='Lap Inches', ylabel='Price'>"
            ]
          },
          "execution_count": 120,
          "metadata": {},
          "output_type": "execute_result"
        },
        {
          "data": {
            "image/png": "[encoded data removed]",
            "text/plain": [
              "<Figure size 640x480 with 1 Axes>"
            ]
          },
          "metadata": {},
          "output_type": "display_data"
        }
      ],
      "source": [
        "sns.barplot(x = df['Lap Inches'],y = df['Price'],ci=None)"
      ]
    },
    {
      "cell_type": "code",
      "execution_count": null,
      "metadata": {
        "colab": {
          "base_uri": "https://localhost:8080/",
          "height": 553
        },
        "id": "kwLSesTrtP3n",
        "outputId": "9ff2fde9-a156-40f8-93ad-a260ab2826c5"
      },
      "outputs": [
        {
          "name": "stderr",
          "output_type": "stream",
          "text": [
            "<ipython-input-121-4b48cbe06233>:1: FutureWarning: \n",
            "\n",
            "The `ci` parameter is deprecated. Use `errorbar=None` for the same effect.\n",
            "\n",
            "  sns.barplot(x = df['Weight(Kg)'],y = df['Price'],ci=None)\n"
          ]
        },
        {
          "data": {
            "text/plain": [
              "<Axes: xlabel='Weight(Kg)', ylabel='Price'>"
            ]
          },
          "execution_count": 121,
          "metadata": {},
          "output_type": "execute_result"
        },
        {
          "data": {
            "image/png": "[encoded data removed]",
            "text/plain": [
              "<Figure size 640x480 with 1 Axes>"
            ]
          },
          "metadata": {},
          "output_type": "display_data"
        }
      ],
      "source": [
        "sns.barplot(x = df['Weight(Kg)'],y = df['Price'],ci=None)"
      ]
    },
    {
      "cell_type": "code",
      "execution_count": null,
      "metadata": {
        "colab": {
          "base_uri": "https://localhost:8080/",
          "height": 553
        },
        "id": "ZPY6_nM_mYjC",
        "outputId": "be694d2a-9ea3-4fd1-8a7b-924c0404aba6"
      },
      "outputs": [
        {
          "name": "stderr",
          "output_type": "stream",
          "text": [
            "<ipython-input-122-843b8e153873>:1: FutureWarning: \n",
            "\n",
            "The `ci` parameter is deprecated. Use `errorbar=None` for the same effect.\n",
            "\n",
            "  sns.barplot(x = df['RAM'],y = df['Price'],ci=None)\n"
          ]
        },
        {
          "data": {
            "text/plain": [
              "<Axes: xlabel='RAM', ylabel='Price'>"
            ]
          },
          "execution_count": 122,
          "metadata": {},
          "output_type": "execute_result"
        },
        {
          "data": {
            "image/png": "[encoded data removed]",
            "text/plain": [
              "<Figure size 640x480 with 1 Axes>"
            ]
          },
          "metadata": {},
          "output_type": "display_data"
        }
      ],
      "source": [
        "sns.barplot(x = df['RAM'],y = df['Price'],ci=None)"
      ]
    },
    {
      "cell_type": "code",
      "execution_count": null,
      "metadata": {
        "colab": {
          "base_uri": "https://localhost:8080/",
          "height": 553
        },
        "id": "I536Yo9cpBWR",
        "outputId": "9e3e4502-99c4-4436-dba3-136be01f10a6"
      },
      "outputs": [
        {
          "name": "stderr",
          "output_type": "stream",
          "text": [
            "<ipython-input-123-b1c6cd6635c1>:1: FutureWarning: \n",
            "\n",
            "The `ci` parameter is deprecated. Use `errorbar=None` for the same effect.\n",
            "\n",
            "  sns.barplot(x = df['Memory'],y = df['Price'],ci=None)\n"
          ]
        },
        {
          "data": {
            "text/plain": [
              "<Axes: xlabel='Memory', ylabel='Price'>"
            ]
          },
          "execution_count": 123,
          "metadata": {},
          "output_type": "execute_result"
        },
        {
          "data": {
            "image/png": "[encoded data removed]",
            "text/plain": [
              "<Figure size 640x480 with 1 Axes>"
            ]
          },
          "metadata": {},
          "output_type": "display_data"
        }
      ],
      "source": [
        "sns.barplot(x = df['Memory'],y = df['Price'],ci=None)"
      ]
    }
  ],
  "metadata": {
    "colab": {
      "provenance": [],
      "authorship_tag": "ABX9TyNwhobfIV1fhI2nZFzfx0bJ",
      "include_colab_link": true
    },
    "kernelspec": {
      "display_name": "Python 3",
      "name": "python3"
    },
    "language_info": {
      "name": "python"
    }
  },
  "nbformat": 4,
  "nbformat_minor": 0
}